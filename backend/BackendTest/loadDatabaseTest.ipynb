{
 "cells": [
  {
   "cell_type": "code",
   "execution_count": null,
   "id": "c7f693bb",
   "metadata": {
    "vscode": {
     "languageId": "plaintext"
    }
   },
   "outputs": [],
   "source": [
    "import requests\n",
    "from bs4 import BeautifulSoup\n",
    "from urllib.parse import urljoin"
   ]
  },
  {
   "cell_type": "code",
   "execution_count": 7,
   "id": "2984f994",
   "metadata": {
    "vscode": {
     "languageId": "plaintext"
    }
   },
   "outputs": [],
   "source": [
    "BASE_URL = \"https://recalls-rappels.canada.ca/en?page=%2C\"\n",
    "resp = requests.get(BASE_URL, headers={\"User-Agent\": \"Mozilla/5.0\"})\n",
    "soup = BeautifulSoup(resp.text, \"html.parser\")"
   ]
  },
  {
   "cell_type": "code",
   "execution_count": 8,
   "id": "362f4135-d6c7-4ba6-a82f-d4d0ba742ae7",
   "metadata": {},
   "outputs": [],
   "source": [
    "recalls = []\n",
    "def get_hyperlinks(url):  \n",
    "    for block in soup.select(\"div.homepage-recent-row\"):\n",
    "        a_tag = block.select_one(\"span.homepage-recent a\")\n",
    "        if not a_tag:\n",
    "            continue\n",
    "    \n",
    "        href = urljoin(url, a_tag.get(\"href\"))\n",
    "        title = a_tag.get_text(strip=True)\n",
    "    \n",
    "        ar_tag = block.select_one(\"span.ar-type\")\n",
    "        recall_info = ar_tag.get_text(strip=True) if ar_tag else \"\"\n",
    "        # Split \"Food recall warning | 2025-09-10\"\n",
    "        if \"|\" in recall_info:\n",
    "            recall_type, recall_date = [s.strip() for s in recall_info.split(\"|\", 1)]\n",
    "        else:\n",
    "            recall_type, recall_date = recall_info, None\n",
    "    \n",
    "        recalls.append({\n",
    "            \"title\": title,\n",
    "            \"href\": href,\n",
    "            \"recall_type\": recall_type,\n",
    "            \"recall_date\": recall_date\n",
    "        })"
   ]
  },
  {
   "cell_type": "code",
   "execution_count": 9,
   "id": "bc5f5392-bd44-484e-a6f5-56ab44b19432",
   "metadata": {},
   "outputs": [],
   "source": [
    "get_hyperlinks(BASE_URL)"
   ]
  },
  {
   "cell_type": "code",
   "execution_count": 10,
   "id": "86e3a129-02c8-4619-ba9f-76c4eb32226b",
   "metadata": {},
   "outputs": [
    {
     "name": "stdout",
     "output_type": "stream",
     "text": [
      "{'title': 'Krazy Krunch brand Popcorn White Cheddar recalled due to improperly declared milk', 'href': 'https://recalls-rappels.canada.ca/en/alert-recall/krazy-krunch-brand-popcorn-white-cheddar-recalled-due-improperly-declared-milk', 'recall_type': 'Notification', 'recall_date': '2025-10-03'}\n"
     ]
    }
   ],
   "source": [
    "print(recalls[1])"
   ]
  },
  {
   "cell_type": "code",
   "execution_count": 18,
   "id": "581f5e8f-92e1-44b6-ad5e-5282bc468ba7",
   "metadata": {},
   "outputs": [],
   "source": [
    "# Run to get all the titles, hyperlinks, recall tags, recall date\n",
    "recalls = []\n",
    "for page in range(0, 20):\n",
    "    url = \"https://recalls-rappels.canada.ca/en?page=%2C{page}\"\n",
    "    get_hyperlinks(url)\n",
    "\n"
   ]
  },
  {
   "cell_type": "code",
   "execution_count": 20,
   "id": "91fce236-594a-412c-b569-4abec89ba64d",
   "metadata": {},
   "outputs": [
    {
     "name": "stdout",
     "output_type": "stream",
     "text": [
      "200\n"
     ]
    }
   ],
   "source": [
    "print(len(recalls))"
   ]
  },
  {
   "cell_type": "code",
   "execution_count": 25,
   "id": "f2de3bb9-dbe2-4bc5-bcc3-51527ad49df4",
   "metadata": {
    "scrolled": true
   },
   "outputs": [
    {
     "name": "stdout",
     "output_type": "stream",
     "text": [
      "[{'title': 'Pistachio Raw recalled due to Salmonella', 'href': 'https://recalls-rappels.canada.ca/en/alert-recall/pistachio-raw-recalled-due-salmonella', 'recall_type': 'Food recall warning', 'recall_date': '2025-10-03'}, {'title': 'Krazy Krunch brand Popcorn White Cheddar recalled due to improperly declared milk', 'href': 'https://recalls-rappels.canada.ca/en/alert-recall/krazy-krunch-brand-popcorn-white-cheddar-recalled-due-improperly-declared-milk', 'recall_type': 'Notification', 'recall_date': '2025-10-03'}]\n"
     ]
    }
   ],
   "source": [
    "print(recalls[0:2])"
   ]
  },
  {
   "cell_type": "code",
   "execution_count": 30,
   "id": "0417ffaa-5c33-4cb2-941d-4b48f85df2d3",
   "metadata": {},
   "outputs": [],
   "source": [
    "import csv\n",
    "import os"
   ]
  },
  {
   "cell_type": "code",
   "execution_count": 29,
   "id": "d68e09be-9ad2-4737-847c-4d2038b282ef",
   "metadata": {},
   "outputs": [
    {
     "name": "stdout",
     "output_type": "stream",
     "text": [
      "✅ CSV file created successfully!\n"
     ]
    }
   ],
   "source": [
    "with open(\"recalls.csv\", \"w\", newline=\"\", encoding=\"utf-8\") as f:\n",
    "    writer = csv.DictWriter(\n",
    "        f,\n",
    "        fieldnames=[\"title\", \"href\", \"recall_type\", \"recall_date\"]\n",
    "    )\n",
    "    writer.writeheader()\n",
    "    writer.writerows(recalls)\n",
    "print(\"✅ CSV file created successfully!\")"
   ]
  },
  {
   "cell_type": "code",
   "execution_count": 31,
   "id": "66868db4-4b97-4c7d-b653-32f81231945c",
   "metadata": {},
   "outputs": [],
   "source": [
    "CSV_FILE = \"recalls.csv\""
   ]
  },
  {
   "cell_type": "code",
   "execution_count": 36,
   "id": "5841592d-ec91-46e7-a18d-0f9f07e7bc42",
   "metadata": {},
   "outputs": [],
   "source": [
    "with open(CSV_FILE, \"a\", newline=\"\", encoding=\"utf-8\") as f:\n",
    "    fieldnames = [\"id\", \"title\", \"href\", \"recall_type\", \"recall_date\"]\n",
    "    writer = csv.DictWriter(f, fieldnames=fieldnames)\n",
    "\n",
    "    # Write header only if file is new/empty\n",
    "    if f.tell() == 0:\n",
    "        writer.writeheader()\n",
    "        next_id = 1\n",
    "    else:\n",
    "        # Count existing lines to continue ID sequence\n",
    "        with open(CSV_FILE, \"r\", encoding=\"utf-8\") as existing:\n",
    "            next_id = sum(1 for _ in existing)  # counts lines (including header)\n",
    "\n",
    "    for i, item in enumerate(recalls, start=next_id):\n",
    "        writer.writerow({\n",
    "            \"id\": i,\n",
    "            \"title\": item.get(\"title\"),\n",
    "            \"href\": item.get(\"href\"),\n",
    "            \"recall_type\": item.get(\"recall_type\"),\n",
    "            \"recall_date\": item.get(\"recall_date\"),\n",
    "        })"
   ]
  },
  {
   "cell_type": "code",
   "execution_count": null,
   "id": "9dc8eff3-c85c-485c-9edd-ba3cef82a4f0",
   "metadata": {},
   "outputs": [],
   "source": []
  },
  {
   "cell_type": "code",
   "execution_count": null,
   "id": "cfdd437b-e80b-4923-9044-c69de41956c8",
   "metadata": {},
   "outputs": [],
   "source": []
  }
 ],
 "metadata": {
  "kernelspec": {
   "display_name": "Python (.venv)",
   "language": "python",
   "name": ".venv"
  },
  "language_info": {
   "codemirror_mode": {
    "name": "ipython",
    "version": 3
   },
   "file_extension": ".py",
   "mimetype": "text/x-python",
   "name": "python",
   "nbconvert_exporter": "python",
   "pygments_lexer": "ipython3",
   "version": "3.10.6"
  }
 },
 "nbformat": 4,
 "nbformat_minor": 5
}
