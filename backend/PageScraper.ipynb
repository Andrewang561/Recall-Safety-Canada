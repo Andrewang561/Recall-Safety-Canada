{
 "cells": [
  {
   "cell_type": "code",
   "execution_count": 4,
   "id": "95192a1b-749b-4a0d-aa27-7224dd7a4007",
   "metadata": {},
   "outputs": [],
   "source": [
    "import requests\n",
    "from bs4 import BeautifulSoup"
   ]
  },
  {
   "cell_type": "code",
   "execution_count": 15,
   "id": "3e0a78da-4317-4920-af7a-d4460e45cee8",
   "metadata": {},
   "outputs": [],
   "source": [
    "def get_text(tag):\n",
    "    return tag.get_text(strip=True) if tag else None"
   ]
  },
  {
   "cell_type": "code",
   "execution_count": 17,
   "id": "893c676c-7782-4157-9c3e-c61f0ae9ac38",
   "metadata": {},
   "outputs": [
    {
     "name": "stdout",
     "output_type": "stream",
     "text": [
      "[{'id': 'RA-78135', 'div_h3': 'Automotive recall', 'h1_title': '\\nTransport Canada Recall - 2025472 - MICRO BIRD\\n', 'date': '2025-09-24', 'product': 'School Bus recalled by MICRO BIRD', 'issue': '\\nVehicle - Structure\\n', 'wtd': 'Please see corrective actions section below', 'audience': '\\nGeneral public\\n', 'distrib': None}]\n"
     ]
    }
   ],
   "source": [
    "# URL to scrape\n",
    "url = \"https://recalls-rappels.canada.ca/en/alert-recall/transport-canada-recall-2025472-micro-bird#section_3\"\n",
    "# url = input(\"url: \")\n",
    "# Fetch page content\n",
    "response = requests.get(url)\n",
    "soup = BeautifulSoup(response.text, \"html.parser\")\n",
    "\n",
    "page = []\n",
    "\n",
    "# Find the specific elements\n",
    "div_h3 = get_text(soup.find(\"div\", class_=\"h3\", id=\"wb-cont-nav\"))\n",
    "h1_title = get_text(soup.find(\"h1\", class_=\"gc-thickline\", id=\"wb-cont\"))\n",
    "date = get_text(soup.find(\"time\", attrs={\"property\": \"dateModified\"}))\n",
    "product = get_text(soup.find(\"div\", class_=\"field field--name-field-product field--type-string field--label-hidden field--item\"))\n",
    "issue = get_text(soup.find(\"div\", class_=\"field field--name-field-issue-type field--type-entity-reference field--label-hidden field--items\"))\n",
    "wtd = get_text(soup.find(\"div\", class_=\"field field--name-field-action field--type-text-long field--label-hidden field--item\"))\n",
    "audience = get_text(soup.find(\"div\", class_=\"field field--name-field-who-this-is-for field--type-entity-reference field--label-hidden field--items\"))\n",
    "distrib = get_text(soup.find(\"div\", class_=\"field field--name-field-distribution-region field--type-entity-reference field--label-hidden field--items\"))\n",
    "n_id = soup.find_all(\"div\", class_=\"field field--name-node-id field--label-inline\")\n",
    "n_id = get_text(n_id[-1]).replace(\"Identification number\", \"\").strip()\n",
    "\n",
    "\n",
    "page.append({\n",
    "    \"id\": n_id,\n",
    "    \"div_h3\": div_h3,\n",
    "    \"h1_title\": h1_title,\n",
    "    \"date\": date,\n",
    "    \"product\": product,\n",
    "    \"issue\": issue,\n",
    "    \"wtd\": wtd,\n",
    "    \"audience\": audience,\n",
    "    \"distrib\": distrib\n",
    "})\n",
    "\n",
    "print(page)"
   ]
  },
  {
   "cell_type": "code",
   "execution_count": null,
   "id": "e5769129-222d-481d-96ca-11298e6c1ea9",
   "metadata": {},
   "outputs": [],
   "source": []
  }
 ],
 "metadata": {
  "kernelspec": {
   "display_name": "Python (.venv)",
   "language": "python",
   "name": ".venv"
  },
  "language_info": {
   "codemirror_mode": {
    "name": "ipython",
    "version": 3
   },
   "file_extension": ".py",
   "mimetype": "text/x-python",
   "name": "python",
   "nbconvert_exporter": "python",
   "pygments_lexer": "ipython3",
   "version": "3.10.6"
  }
 },
 "nbformat": 4,
 "nbformat_minor": 5
}
